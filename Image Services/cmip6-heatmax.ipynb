{
 "cells": [
  {
   "cell_type": "code",
   "execution_count": 1,
   "metadata": {},
   "outputs": [],
   "source": [
    "import arcgis\n",
    "from arcgis.gis import GIS\n",
    "from arcgis.raster import ImageryLayer\n",
    "\n",
    "gis = GIS()\n",
    "gis.users.me"
   ]
  },
  {
   "cell_type": "code",
   "execution_count": 2,
   "metadata": {},
   "outputs": [],
   "source": [
    "esri_imagery = ImageryLayer(\"https://civsci.esrigc.com/image/rest/services/heatmax_median_multivariate_annual_cw/ImageServer\", gis=gis)\n",
    "egis_imagery = ImageryLayer(\"https://gis.earthdata.nasa.gov/maphost/rest/services/EIC/heatmax_median_multivariate_annual/ImageServer\", gis=gis)"
   ]
  },
  {
   "cell_type": "code",
   "execution_count": 3,
   "metadata": {},
   "outputs": [],
   "source": [
    "# Set the parameters for the benchmark\n",
    "\n",
    "GEOMETRY = {\"spatialReference\":{\"wkid\":4326},\"x\":-103.3665440972982,\"y\":0.995054807838955}\n",
    "GEOMETRY_TYPE = \"point\"\n",
    "MOSAIC_RULE = {\"ascending\":True,\"multidimensionalDefinition\":[{\"variableName\":\"heatmax_ssp126\",\"dimensionName\":\"StdTime\",\"values\":[[-628560000000,249868800000]],\"isSlice\":False},{\"variableName\":\"heatmax_ssp245\",\"dimensionName\":\"StdTime\",\"values\":[[-628560000000,249868800000]],\"isSlice\":False}]}\n",
    "RETURN_FIRST_VALUE = False\n",
    "INTERPOLATION = \"RSP_NearestNeighbor\""
   ]
  },
  {
   "cell_type": "code",
   "execution_count": 4,
   "metadata": {},
   "outputs": [],
   "source": [
    "def benchmark_imagery_layer(imagery_layer, parameters):\n",
    "    return imagery_layer.get_samples(geometry=parameters[0], geometry_type=parameters[1], mosaic_rule=parameters[2], return_first_value_only=parameters[3], interpolation=parameters[4])"
   ]
  },
  {
   "cell_type": "code",
   "execution_count": 5,
   "metadata": {},
   "outputs": [],
   "source": [
    "def benchmark_report(benchmark_output):\n",
    "    print(\n",
    "f'''\n",
    "Out of {benchmark_output.repeat} runs, {benchmark_output.loops} loops each...\n",
    "\n",
    " Average   Best   Worst   stdev\n",
    "|-------|-------|-------|-------|\n",
    "| {round(benchmark_output.average, 3)} | {round(benchmark_output.best, 3)} | {round(benchmark_output.worst, 3)} | {round(benchmark_output.stdev, 3)} | seconds\n",
    "''')\n",
    "    return "
   ]
  },
  {
   "cell_type": "code",
   "execution_count": null,
   "metadata": {},
   "outputs": [],
   "source": [
    "esri_output = %timeit -o -r 10 -n 10 benchmark_imagery_layer(esri_imagery, [GEOMETRY, GEOMETRY_TYPE, MOSAIC_RULE, RETURN_FIRST_VALUE, INTERPOLATION])\n",
    "benchmark_report(esri_output)"
   ]
  },
  {
   "cell_type": "code",
   "execution_count": null,
   "metadata": {},
   "outputs": [],
   "source": [
    "egis_output = %timeit -o -r 10 -n 10 benchmark_imagery_layer(egis_imagery, [GEOMETRY, GEOMETRY_TYPE, MOSAIC_RULE, RETURN_FIRST_VALUE, INTERPOLATION])\n",
    "benchmark_report(egis_output)"
   ]
  },
  {
   "cell_type": "code",
   "execution_count": 12,
   "metadata": {},
   "outputs": [],
   "source": [
    "import logging\n",
    "import time\n",
    "import requests\n",
    "\n",
    "# Set up logging\n",
    "logging.basicConfig(filename='benchmark_log.log', level=logging.INFO, format='%(asctime)s - %(message)s')\n",
    "\n",
    "def intercept_http_request(url, method='GET', **kwargs):\n",
    "    start_time = time.time()\n",
    "    \n",
    "    if method.upper() == 'GET':\n",
    "        response = requests.get(url, **kwargs)\n",
    "    elif method.upper() == 'POST':\n",
    "        response = requests.post(url, **kwargs)\n",
    "    else:\n",
    "        raise ValueError(\"Unsupported HTTP method. Use 'GET' or 'POST'.\")\n",
    "    \n",
    "    end_time = time.time()\n",
    "    elapsed_time = end_time - start_time\n",
    "    \n",
    "    # Log the request and response details\n",
    "    logging.info(f\"Method: {method}\")\n",
    "    logging.info(f\"URL: {url}\")\n",
    "    logging.info(f\"Elapsed Time: {elapsed_time} seconds\")\n",
    "    logging.info(f\"Status Code: {response.status_code}\")\n",
    "    logging.info(f\"Request Headers: {response.request.headers}\")\n",
    "    logging.info(f\"Response Headers: {response.headers}\")\n",
    "    logging.info(f\"Response Content: {response.text[:500]}\")  # Log first 500 characters of the response content\n",
    "    \n",
    "    # Print the same information to the console\n",
    "    print(f\"Method: {method}\")\n",
    "    print(f\"URL: {url}\")\n",
    "    print(f\"Elapsed Time: {elapsed_time} seconds\")\n",
    "    print(f\"Status Code: {response.status_code}\")\n",
    "    print(f\"Request Headers: {response.request.headers}\")\n",
    "    print(f\"Response Headers: {response.headers}\")\n",
    "    print(f\"Response Content: {response.text[:500]}\")  # Print first 500 characters of the response content\n",
    "    \n",
    "    return response, elapsed_time"
   ]
  },
  {
   "cell_type": "code",
   "execution_count": 13,
   "metadata": {},
   "outputs": [],
   "source": [
    "def benchmark_imagery_layer(imagery_layer, parameters, method='GET'):\n",
    "    url = imagery_layer.url  # Assuming imagery_layer has a 'url' attribute\n",
    "    \n",
    "    # Intercept the HTTP request and measure the time\n",
    "    response, elapsed_time = intercept_http_request(url, method, params={\n",
    "        'geometry': parameters[0],\n",
    "        'geometryType': parameters[1],\n",
    "        'mosaicRule': parameters[2],\n",
    "        'returnFirstValueOnly': parameters[3],\n",
    "        'interpolation': parameters[4]\n",
    "    })\n",
    "    \n",
    "    return response"
   ]
  },
  {
   "cell_type": "code",
   "execution_count": 10,
   "metadata": {},
   "outputs": [],
   "source": [
    "# Example parameters\n",
    "esri_imagery_layer = ImageryLayer(url=\"https://civsci.esrigc.com/image/rest/services/heatmax_median_multivariate_annual_cw/ImageServer\")\n",
    "parameters = [GEOMETRY, GEOMETRY_TYPE, MOSAIC_RULE, RETURN_FIRST_VALUE, INTERPOLATION]\n",
    "\n",
    "# Benchmark the imagery layer\n",
    "response = benchmark_imagery_layer(esri_imagery_layer, parameters)"
   ]
  },
  {
   "cell_type": "code",
   "execution_count": 11,
   "metadata": {},
   "outputs": [],
   "source": [
    "# Example parameters\n",
    "egis_imagery_layer = ImageryLayer(url=\"https://gis.earthdata.nasa.gov/maphost/rest/services/EIC/heatmax_median_multivariate_annual/ImageServer\")\n",
    "parameters = [GEOMETRY, GEOMETRY_TYPE, MOSAIC_RULE, RETURN_FIRST_VALUE, INTERPOLATION]\n",
    "\n",
    "# Benchmark the imagery layer\n",
    "response = benchmark_imagery_layer(egis_imagery_layer, parameters)"
   ]
  },
  {
   "cell_type": "code",
   "execution_count": null,
   "metadata": {},
   "outputs": [],
   "source": [
    "# Example parameters\n",
    "esri_imagery_layer = ImageryLayer(url=\"https://civsci.esrigc.com/image/rest/services/heatmax_median_multivariate_annual_cw/ImageServer\")\n",
    "parameters = [GEOMETRY, GEOMETRY_TYPE, MOSAIC_RULE, RETURN_FIRST_VALUE, INTERPOLATION]\n",
    "\n",
    "# Benchmark the imagery layer with GET request\n",
    "response_get = benchmark_imagery_layer(esri_imagery_layer, parameters, method='GET')\n",
    "\n",
    "# Benchmark the imagery layer with POST request\n",
    "response_post = benchmark_imagery_layer(esri_imagery_layer, parameters, method='POST')"
   ]
  },
  {
   "cell_type": "code",
   "execution_count": null,
   "metadata": {},
   "outputs": [],
   "source": [
    "# Example parameters\n",
    "egis_imagery_layer = ImageryLayer(url=\"https://gis.earthdata.nasa.gov/maphost/rest/services/EIC/heatmax_median_multivariate_annual/ImageServer\")\n",
    "parameters = [GEOMETRY, GEOMETRY_TYPE, MOSAIC_RULE, RETURN_FIRST_VALUE, INTERPOLATION]\n",
    "\n",
    "# Benchmark the imagery layer with GET request\n",
    "response_get = benchmark_imagery_layer(egis_imagery_layer, parameters, method='GET')\n",
    "\n",
    "# Benchmark the imagery layer with POST request\n",
    "response_post = benchmark_imagery_layer(egis_imagery_layer, parameters, method='POST')"
   ]
  },
  {
   "cell_type": "code",
   "execution_count": null,
   "metadata": {},
   "outputs": [],
   "source": []
  }
 ],
 "metadata": {
  "kernelspec": {
   "display_name": "Python 3",
   "language": "python",
   "name": "python3"
  },
  "language_info": {
   "codemirror_mode": {
    "name": "ipython",
    "version": 3
   },
   "file_extension": ".py",
   "mimetype": "text/x-python",
   "name": "python",
   "nbconvert_exporter": "python",
   "pygments_lexer": "ipython3",
   "version": "3.9.19"
  }
 },
 "nbformat": 4,
 "nbformat_minor": 2
}
