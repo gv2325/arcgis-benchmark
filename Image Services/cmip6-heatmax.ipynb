{
 "cells": [
  {
   "cell_type": "code",
   "execution_count": 1,
   "metadata": {},
   "outputs": [],
   "source": [
    "import arcgis\n",
    "from arcgis.gis import GIS\n",
    "from arcgis.raster import ImageryLayer\n",
    "\n",
    "gis = GIS()\n",
    "gis.users.me"
   ]
  },
  {
   "cell_type": "code",
   "execution_count": 2,
   "metadata": {},
   "outputs": [],
   "source": [
    "esri_imagery = ImageryLayer(\"https://civsci.esrigc.com/image/rest/services/heatmax_median_multivariate_annual_cw/ImageServer\", gis=gis)\n",
    "egis_imagery = ImageryLayer(\"https://gis.earthdata.nasa.gov/maphost/rest/services/EIC/heatmax_median_multivariate_annual/ImageServer\", gis=gis)"
   ]
  },
  {
   "cell_type": "code",
   "execution_count": 3,
   "metadata": {},
   "outputs": [],
   "source": [
    "# Set the parameters for the benchmark\n",
    "GEOMETRY = {\"spatialReference\":{\"wkid\":4326},\"x\":-103.3665440972982,\"y\":0.995054807838955}\n",
    "GEOMETRY_TYPE = \"point\"\n",
    "MOSAIC_RULE = {\"ascending\":True,\"multidimensionalDefinition\":[{\"variableName\":\"heatmax_ssp126\",\"dimensionName\":\"StdTime\",\"values\":[[-628560000000,249868800000]],\"isSlice\":False},{\"variableName\":\"heatmax_ssp245\",\"dimensionName\":\"StdTime\",\"values\":[[-628560000000,249868800000]],\"isSlice\":False}]}\n",
    "RETURN_FIRST_VALUE = False\n",
    "INTERPOLATION = \"RSP_NearestNeighbor\""
   ]
  },
  {
   "cell_type": "code",
   "execution_count": 4,
   "metadata": {},
   "outputs": [],
   "source": [
    "def benchmark_imagery_layer(imagery_layer, parameters):\n",
    "    return imagery_layer.get_samples(geometry=parameters[0], geometry_type=parameters[1], mosaic_rule=parameters[2], return_first_value_only=parameters[3], interpolation=parameters[4])"
   ]
  },
  {
   "cell_type": "code",
   "execution_count": 5,
   "metadata": {},
   "outputs": [],
   "source": [
    "def benchmark_report(benchmark_output):\n",
    "    print(\n",
    "f'''\n",
    "Out of {benchmark_output.repeat} runs, {benchmark_output.loops} loops each...\n",
    "\n",
    " Average   Best   Worst   stdev\n",
    "|-------|-------|-------|-------|\n",
    "| {round(benchmark_output.average, 3)} | {round(benchmark_output.best, 3)} | {round(benchmark_output.worst, 3)} | {round(benchmark_output.stdev, 3)} | seconds\n",
    "''')\n",
    "    return "
   ]
  },
  {
   "cell_type": "code",
   "execution_count": 6,
   "metadata": {},
   "outputs": [
    {
     "name": "stdout",
     "output_type": "stream",
     "text": [
      "52.4 ms ± 8.47 ms per loop (mean ± std. dev. of 10 runs, 10 loops each)\n",
      "\n",
      "Out of 10 runs, 10 loops each...\n",
      "\n",
      " Average   Best   Worst   stdev\n",
      "|-------|-------|-------|-------|\n",
      "| 0.052 | 0.046 | 0.076 | 0.008 | seconds\n",
      "\n"
     ]
    }
   ],
   "source": [
    "esri_output = %timeit -o -r 10 -n 10 benchmark_imagery_layer(esri_imagery, [GEOMETRY, GEOMETRY_TYPE, MOSAIC_RULE, RETURN_FIRST_VALUE, INTERPOLATION])\n",
    "benchmark_report(esri_output)"
   ]
  },
  {
   "cell_type": "code",
   "execution_count": 7,
   "metadata": {},
   "outputs": [
    {
     "name": "stdout",
     "output_type": "stream",
     "text": [
      "221 ms ± 93.2 ms per loop (mean ± std. dev. of 10 runs, 10 loops each)\n",
      "\n",
      "Out of 10 runs, 10 loops each...\n",
      "\n",
      " Average   Best   Worst   stdev\n",
      "|-------|-------|-------|-------|\n",
      "| 0.221 | 0.154 | 0.465 | 0.093 | seconds\n",
      "\n"
     ]
    }
   ],
   "source": [
    "egis_output = %timeit -o -r 10 -n 10 benchmark_imagery_layer(egis_imagery, [GEOMETRY, GEOMETRY_TYPE, MOSAIC_RULE, RETURN_FIRST_VALUE, INTERPOLATION])\n",
    "benchmark_report(egis_output)"
   ]
  },
  {
   "cell_type": "code",
   "execution_count": 12,
   "metadata": {},
   "outputs": [],
   "source": [
    "import logging\n",
    "import time\n",
    "import requests\n",
    "\n",
    "# Set up logging\n",
    "logging.basicConfig(filename='benchmark_log.log', level=logging.INFO, format='%(asctime)s - %(message)s')\n",
    "\n",
    "def intercept_http_request(url, method='GET', **kwargs):\n",
    "    start_time = time.time()\n",
    "    \n",
    "    if method.upper() == 'GET':\n",
    "        response = requests.get(url, **kwargs)\n",
    "    elif method.upper() == 'POST':\n",
    "        response = requests.post(url, **kwargs)\n",
    "    else:\n",
    "        raise ValueError(\"Unsupported HTTP method. Use 'GET' or 'POST'.\")\n",
    "    \n",
    "    end_time = time.time()\n",
    "    elapsed_time = end_time - start_time\n",
    "    \n",
    "    # Log the request and response details\n",
    "    logging.info(f\"Method: {method}\")\n",
    "    logging.info(f\"URL: {url}\")\n",
    "    logging.info(f\"Elapsed Time: {elapsed_time} seconds\")\n",
    "    logging.info(f\"Status Code: {response.status_code}\")\n",
    "    logging.info(f\"Request Headers: {response.request.headers}\")\n",
    "    logging.info(f\"Response Headers: {response.headers}\")\n",
    "    logging.info(f\"Response Content: {response.text[:500]}\")  # Log first 500 characters of the response content\n",
    "    \n",
    "    # Print the same information to the console\n",
    "    print(f\"Method: {method}\")\n",
    "    print(f\"URL: {url}\")\n",
    "    print(f\"Elapsed Time: {elapsed_time} seconds\")\n",
    "    print(f\"Status Code: {response.status_code}\")\n",
    "    print(f\"Request Headers: {response.request.headers}\")\n",
    "    print(f\"Response Headers: {response.headers}\")\n",
    "    print(f\"Response Content: {response.text[:500]}\")  # Print first 500 characters of the response content\n",
    "    \n",
    "    return response, elapsed_time"
   ]
  },
  {
   "cell_type": "code",
   "execution_count": 13,
   "metadata": {},
   "outputs": [],
   "source": [
    "def benchmark_imagery_layer(imagery_layer, parameters, method='GET'):\n",
    "    url = imagery_layer.url  # Assuming imagery_layer has a 'url' attribute\n",
    "    \n",
    "    # Intercept the HTTP request and measure the time\n",
    "    response, elapsed_time = intercept_http_request(url, method, params={\n",
    "        'geometry': parameters[0],\n",
    "        'geometryType': parameters[1],\n",
    "        'mosaicRule': parameters[2],\n",
    "        'returnFirstValueOnly': parameters[3],\n",
    "        'interpolation': parameters[4]\n",
    "    })\n",
    "    \n",
    "    return response"
   ]
  },
  {
   "cell_type": "code",
   "execution_count": 10,
   "metadata": {},
   "outputs": [],
   "source": [
    "# Example parameters\n",
    "esri_imagery_layer = ImageryLayer(url=\"https://civsci.esrigc.com/image/rest/services/heatmax_median_multivariate_annual_cw/ImageServer\")\n",
    "parameters = [GEOMETRY, GEOMETRY_TYPE, MOSAIC_RULE, RETURN_FIRST_VALUE, INTERPOLATION]\n",
    "\n",
    "# Benchmark the imagery layer\n",
    "response = benchmark_imagery_layer(esri_imagery_layer, parameters)"
   ]
  },
  {
   "cell_type": "code",
   "execution_count": 11,
   "metadata": {},
   "outputs": [],
   "source": [
    "# Example parameters\n",
    "egis_imagery_layer = ImageryLayer(url=\"https://gis.earthdata.nasa.gov/maphost/rest/services/EIC/heatmax_median_multivariate_annual/ImageServer\")\n",
    "parameters = [GEOMETRY, GEOMETRY_TYPE, MOSAIC_RULE, RETURN_FIRST_VALUE, INTERPOLATION]\n",
    "\n",
    "# Benchmark the imagery layer\n",
    "response = benchmark_imagery_layer(egis_imagery_layer, parameters)"
   ]
  },
  {
   "cell_type": "code",
   "execution_count": 16,
   "metadata": {},
   "outputs": [
    {
     "name": "stdout",
     "output_type": "stream",
     "text": [
      "Method: GET\n",
      "URL: https://civsci.esrigc.com/image/rest/services/heatmax_median_multivariate_annual_cw/ImageServer\n",
      "Elapsed Time: 0.11243224143981934 seconds\n",
      "Status Code: 200\n",
      "Request Headers: {'User-Agent': 'python-requests/2.31.0', 'Accept-Encoding': 'gzip, deflate, br', 'Accept': '*/*', 'Connection': 'keep-alive'}\n",
      "Response Headers: {'Cache-Control': 'must-revalidate,max-age=0,public', 'Transfer-Encoding': 'chunked', 'Content-Type': 'text/html; charset=utf-8', 'Content-Encoding': 'gzip', 'Vary': 'Origin', 'Server': 'Microsoft-IIS/10.0', 'X-Content-Type-Options': 'nosniff', 'X-XSS-Protection': '1; mode=block', 'X-Frame-Options': 'SAMEORIGIN', 'Set-Cookie': 'AGS_ROLES=\"419jqfa+uOZgYod4xPOQ8Q==\"; Version=1; Max-Age=60; Expires=Wed, 11 Sep 2024 14:44:54 GMT; Path=/image/rest; Secure; HttpOnly', 'X-Powered-By': 'ASP.NET', 'Date': 'Wed, 11 Sep 2024 14:43:54 GMT'}\n",
      "Response Content: <html lang=\"en\">\n",
      "<head>\n",
      "<title>heatmax_median_multivariate_annual_cw (ImageServer)</title>\n",
      "<link href=\"/image/rest/static/main.css\" rel=\"stylesheet\" type=\"text/css\"/>\n",
      "</head>\n",
      "<body>\n",
      "<table width=\"100%\" class=\"userTable\">\n",
      "<tr>\n",
      "<td class=\"titlecell\">\n",
      "ArcGIS REST Services Directory\n",
      "</td>\n",
      "<td align=\"right\">\n",
      "<a href=\"https://civsci.esrigc.com/image/login?returnUrl=https://civsci.esrigc.com/image/rest/services\">Login</a>\n",
      "</td>\n",
      "</tr>\n",
      "</table>\n",
      "<table width=\"100%\" class=\"navTable\">\n",
      "<tr v\n",
      "Method: POST\n",
      "URL: https://civsci.esrigc.com/image/rest/services/heatmax_median_multivariate_annual_cw/ImageServer\n",
      "Elapsed Time: 0.1649928092956543 seconds\n",
      "Status Code: 200\n",
      "Request Headers: {'User-Agent': 'python-requests/2.31.0', 'Accept-Encoding': 'gzip, deflate, br', 'Accept': '*/*', 'Connection': 'keep-alive', 'Content-Length': '0'}\n",
      "Response Headers: {'Cache-Control': 'must-revalidate,max-age=0,public', 'Transfer-Encoding': 'chunked', 'Content-Type': 'text/html; charset=utf-8', 'Content-Encoding': 'gzip', 'Vary': 'Origin', 'Server': 'Microsoft-IIS/10.0', 'X-Content-Type-Options': 'nosniff', 'X-XSS-Protection': '1; mode=block', 'X-Frame-Options': 'SAMEORIGIN', 'Set-Cookie': 'AGS_ROLES=\"419jqfa+uOZgYod4xPOQ8Q==\"; Version=1; Max-Age=60; Expires=Wed, 11 Sep 2024 14:44:54 GMT; Path=/image/rest; Secure; HttpOnly', 'X-Powered-By': 'ASP.NET', 'Date': 'Wed, 11 Sep 2024 14:43:54 GMT'}\n",
      "Response Content: <html lang=\"en\">\n",
      "<head>\n",
      "<title>heatmax_median_multivariate_annual_cw (ImageServer)</title>\n",
      "<link href=\"/image/rest/static/main.css\" rel=\"stylesheet\" type=\"text/css\"/>\n",
      "</head>\n",
      "<body>\n",
      "<table width=\"100%\" class=\"userTable\">\n",
      "<tr>\n",
      "<td class=\"titlecell\">\n",
      "ArcGIS REST Services Directory\n",
      "</td>\n",
      "<td align=\"right\">\n",
      "<a href=\"https://civsci.esrigc.com/image/login?returnUrl=https://civsci.esrigc.com/image/rest/services\">Login</a>\n",
      "</td>\n",
      "</tr>\n",
      "</table>\n",
      "<table width=\"100%\" class=\"navTable\">\n",
      "<tr v\n"
     ]
    }
   ],
   "source": [
    "# Example parameters\n",
    "esri_imagery_layer = ImageryLayer(url=\"https://civsci.esrigc.com/image/rest/services/heatmax_median_multivariate_annual_cw/ImageServer\")\n",
    "parameters = [GEOMETRY, GEOMETRY_TYPE, MOSAIC_RULE, RETURN_FIRST_VALUE, INTERPOLATION]\n",
    "\n",
    "# Benchmark the imagery layer with GET request\n",
    "response_get = benchmark_imagery_layer(esri_imagery_layer, parameters, method='GET')\n",
    "\n",
    "# Benchmark the imagery layer with POST request\n",
    "response_post = benchmark_imagery_layer(esri_imagery_layer, parameters, method='POST')"
   ]
  },
  {
   "cell_type": "code",
   "execution_count": 15,
   "metadata": {},
   "outputs": [
    {
     "name": "stdout",
     "output_type": "stream",
     "text": [
      "Method: GET\n",
      "URL: https://gis.earthdata.nasa.gov/maphost/rest/services/EIC/heatmax_median_multivariate_annual/ImageServer\n",
      "Elapsed Time: 1.280320167541504 seconds\n",
      "Status Code: 200\n",
      "Request Headers: {'User-Agent': 'python-requests/2.31.0', 'Accept-Encoding': 'gzip, deflate, br', 'Accept': '*/*', 'Connection': 'keep-alive'}\n",
      "Response Headers: {'Content-Type': 'text/html;charset=utf-8', 'Content-Length': '2062', 'Connection': 'keep-alive', 'Date': 'Wed, 11 Sep 2024 14:41:15 GMT', 'Server': '', 'X-Content-Type-Options': 'nosniff', 'X-Frame-Options': 'SAMEORIGIN', 'Cache-Control': 'max-age=0,must-revalidate', 'Content-Encoding': 'gzip', 'Set-Cookie': 'AGS_ROLES=\"419jqfa+uOZgYod4xPOQ8Q==\"; Version=1; Max-Age=60; Expires=Wed, 11 Sep 2024 14:42:15 GMT; Path=/maphost/rest; Secure; HttpOnly', 'Vary': 'Origin', 'X-XSS-Protection': '1; mode=block', 'X-Request-Id': '8Q6plZJAL4VADORgnVdRwrCnrVAtM5aCtxBKzgOE7Au4ShFhAbRmaw==', 'Strict-Transport-Security': 'max-age=31536000; includeSubDomains; preload', 'X-Cache': 'Miss from cloudfront', 'Via': '1.1 a3cc6ada872dd8799739f0e62dddda7c.cloudfront.net (CloudFront)', 'X-Amz-Cf-Pop': 'IAD66-C2', 'X-Amz-Cf-Id': '8Q6plZJAL4VADORgnVdRwrCnrVAtM5aCtxBKzgOE7Au4ShFhAbRmaw=='}\n",
      "Response Content: <html lang=\"en\">\n",
      "<head>\n",
      "<title>EIC/heatmax_median_multivariate_annual (ImageServer)</title>\n",
      "<link href=\"/maphost/rest/static/main.css\" rel=\"stylesheet\" type=\"text/css\"/>\n",
      "<!-- We participate in the US government's analytics program. See the data at analytics.usa.gov. -->\n",
      "<script async type=\"text/javascript\" src=\"https://dap.digitalgov.gov/Universal-Federated-Analytics-Min.js?agency=NASA&subagency=GSFC\" id=\"_fed_an_ua_tag\"></script>\n",
      "</head>\n",
      "<body>\n",
      "<table width=\"100%\" class=\"userTable\">\n",
      "<t\n",
      "Method: POST\n",
      "URL: https://gis.earthdata.nasa.gov/maphost/rest/services/EIC/heatmax_median_multivariate_annual/ImageServer\n",
      "Elapsed Time: 0.600898265838623 seconds\n",
      "Status Code: 200\n",
      "Request Headers: {'User-Agent': 'python-requests/2.31.0', 'Accept-Encoding': 'gzip, deflate, br', 'Accept': '*/*', 'Connection': 'keep-alive', 'Content-Length': '0'}\n",
      "Response Headers: {'Content-Type': 'text/html;charset=utf-8', 'Content-Length': '2062', 'Connection': 'keep-alive', 'Date': 'Wed, 11 Sep 2024 14:41:15 GMT', 'Server': '', 'X-Content-Type-Options': 'nosniff', 'X-Frame-Options': 'SAMEORIGIN', 'Cache-Control': 'max-age=0,must-revalidate', 'Content-Encoding': 'gzip', 'Set-Cookie': 'AGS_ROLES=\"419jqfa+uOZgYod4xPOQ8Q==\"; Version=1; Max-Age=60; Expires=Wed, 11 Sep 2024 14:42:15 GMT; Path=/maphost/rest; Secure; HttpOnly', 'Vary': 'Origin', 'X-XSS-Protection': '1; mode=block', 'X-Request-Id': 'ZYHN8CxxNEQZPsn6IJa1QSRPNs8AJoWmoNJf6cueVH6HM-OISKxmjg==', 'Strict-Transport-Security': 'max-age=31536000; includeSubDomains; preload', 'X-Cache': 'Miss from cloudfront', 'Via': '1.1 de8f46f8f922c244bbc7d8b62cc964e8.cloudfront.net (CloudFront)', 'X-Amz-Cf-Pop': 'IAD66-C2', 'X-Amz-Cf-Id': 'ZYHN8CxxNEQZPsn6IJa1QSRPNs8AJoWmoNJf6cueVH6HM-OISKxmjg=='}\n",
      "Response Content: <html lang=\"en\">\n",
      "<head>\n",
      "<title>EIC/heatmax_median_multivariate_annual (ImageServer)</title>\n",
      "<link href=\"/maphost/rest/static/main.css\" rel=\"stylesheet\" type=\"text/css\"/>\n",
      "<!-- We participate in the US government's analytics program. See the data at analytics.usa.gov. -->\n",
      "<script async type=\"text/javascript\" src=\"https://dap.digitalgov.gov/Universal-Federated-Analytics-Min.js?agency=NASA&subagency=GSFC\" id=\"_fed_an_ua_tag\"></script>\n",
      "</head>\n",
      "<body>\n",
      "<table width=\"100%\" class=\"userTable\">\n",
      "<t\n"
     ]
    }
   ],
   "source": [
    "# Example parameters\n",
    "egis_imagery_layer = ImageryLayer(url=\"https://gis.earthdata.nasa.gov/maphost/rest/services/EIC/heatmax_median_multivariate_annual/ImageServer\")\n",
    "parameters = [GEOMETRY, GEOMETRY_TYPE, MOSAIC_RULE, RETURN_FIRST_VALUE, INTERPOLATION]\n",
    "\n",
    "# Benchmark the imagery layer with GET request\n",
    "response_get = benchmark_imagery_layer(egis_imagery_layer, parameters, method='GET')\n",
    "\n",
    "# Benchmark the imagery layer with POST request\n",
    "response_post = benchmark_imagery_layer(egis_imagery_layer, parameters, method='POST')"
   ]
  },
  {
   "cell_type": "code",
   "execution_count": null,
   "metadata": {},
   "outputs": [],
   "source": []
  }
 ],
 "metadata": {
  "kernelspec": {
   "display_name": "Python 3",
   "language": "python",
   "name": "python3"
  },
  "language_info": {
   "codemirror_mode": {
    "name": "ipython",
    "version": 3
   },
   "file_extension": ".py",
   "mimetype": "text/x-python",
   "name": "python",
   "nbconvert_exporter": "python",
   "pygments_lexer": "ipython3",
   "version": "3.9.19"
  }
 },
 "nbformat": 4,
 "nbformat_minor": 2
}
