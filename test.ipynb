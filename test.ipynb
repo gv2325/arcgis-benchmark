{
 "cells": [
  {
   "cell_type": "code",
   "execution_count": 12,
   "metadata": {},
   "outputs": [],
   "source": [
    "import requests\n",
    "import json\n",
    "import logging"
   ]
  },
  {
   "cell_type": "code",
   "execution_count": 15,
   "metadata": {},
   "outputs": [],
   "source": [
    "url = \"https://gis.earthdata.nasa.gov/maps/rest/services/EIC/heatmax_median_multivariate_annual/ImageServer/getSamples\"\n",
    "params = {\n",
    "            'geometry': '{\"spatialReference\":{\"wkid\":4326},\"x\":-103.3665440972982,\"y\":0.995054807838955}',\n",
    "            'geometryType': 'point',\n",
    "            'mosaicRule': '{\"ascending\":True,\"multidimensionalDefinition\":[{\"variableName\":\"heatmax_ssp126\",\"dimensionName\":\"StdTime\",\"values\":[[-628560000000,4133894400000]],\"isSlice\":False},{\"variableName\":\"heatmax_ssp245\",\"dimensionName\":\"StdTime\",\"values\":[[-628560000000,249868800000]],\"isSlice\":False}]}',\n",
    "            'returnFirstValueOnly': 'False',\n",
    "            'interpolation': 'RSP_NearestNeighbor',\n",
    "            'f': 'json'\n",
    "        }\n",
    "\n",
    "response = requests.get(url, params=params)"
   ]
  },
  {
   "cell_type": "code",
   "execution_count": 16,
   "metadata": {},
   "outputs": [
    {
     "data": {
      "text/plain": [
       "{'error': {'code': 400,\n",
       "  'extendedCode': -2147467259,\n",
       "  'message': 'Unable to complete operation.',\n",
       "  'details': ['Unable to instantiate class for xml schema type: ']}}"
      ]
     },
     "execution_count": 16,
     "metadata": {},
     "output_type": "execute_result"
    },
    {
     "name": "stderr",
     "output_type": "stream",
     "text": [
      "Bad pipe message: %s [b'/5.0 (Windows NT 10.0; Win64; x64) AppleWebKit/537.36 (KHTML, like Gecko) Chrome/128.0.0.0 Safari/537.36\\r\\nA', b'ept-Encoding: gzip, deflate, br, zstd\\r\\nAccept-Language: en-US, en; q=0.9, es; q=0.8\\r\\nReferer: http', b'//glowing-pancake-gj59jrrj4x9hwpxw-8089.app.github.dev/?tab=logViewer\\r\\nX-Request-ID: bf00bd2d2523f102012ac75358718']\n",
      "Bad pipe message: %s [b'c\\r\\nX-Real-IP: 10.240.4.161\\r\\nX-Forwarded-Port: 443\\r\\nX-Fo']\n",
      "Bad pipe message: %s [b'arded-Scheme: https\\r\\nX-Original-URI: /logs\\r\\nX-Scheme: https\\r\\nsec-ch-ua: \"Chromium\";v=\"128\", \"Not;A=Brand\";v=\"24\",', b'Google Chrome\";v=\"128\"\\r\\nDNT: 1\\r']\n"
     ]
    }
   ],
   "source": [
    "response.json()"
   ]
  },
  {
   "cell_type": "code",
   "execution_count": null,
   "metadata": {},
   "outputs": [],
   "source": []
  }
 ],
 "metadata": {
  "kernelspec": {
   "display_name": "egis",
   "language": "python",
   "name": "python3"
  },
  "language_info": {
   "codemirror_mode": {
    "name": "ipython",
    "version": 3
   },
   "file_extension": ".py",
   "mimetype": "text/x-python",
   "name": "python",
   "nbconvert_exporter": "python",
   "pygments_lexer": "ipython3",
   "version": "3.9.19"
  }
 },
 "nbformat": 4,
 "nbformat_minor": 2
}
