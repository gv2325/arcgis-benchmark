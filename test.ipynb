{
 "cells": [
  {
   "cell_type": "code",
   "execution_count": 2,
   "metadata": {},
   "outputs": [],
   "source": [
    "import requests\n",
    "import json\n",
    "import logging"
   ]
  },
  {
   "cell_type": "code",
   "execution_count": 10,
   "metadata": {},
   "outputs": [],
   "source": [
    "url = \"https://civsci.esrigc.com/image/rest/services/heatmax_median_multivariate_annual_cw/ImageServer/getSamples\"\n",
    "params = {\n",
    "            'geometry': {\"spatialReference\":{\"wkid\":4326},\"x\":-103.3665440972982,\"y\":0.995054807838955},\n",
    "            'geometryType': point,\n",
    "            'mosaicRule': \"{\"ascending\":True,\"multidimensionalDefinition\":[{\"variableName\":\"heatmax_ssp126\",\"dimensionName\":\"StdTime\",\"values\":[[-628560000000,249868800000]],\"isSlice\":False},{\"variableName\":\"heatmax_ssp245\",\"dimensionName\":\"StdTime\",\"values\":[[-628560000000,249868800000]],\"isSlice\":False}]},\n",
    "            'returnFirstValueOnly': \"False\",\n",
    "            'interpolation': \"RSP_NearestNeighbor\",\n",
    "            'f': \"json\"\n",
    "        }\n",
    "\n",
    "response = requests.get(url, params=params)"
   ]
  },
  {
   "cell_type": "code",
   "execution_count": 11,
   "metadata": {},
   "outputs": [
    {
     "data": {
      "text/plain": [
       "b'{\"error\":{\"code\":400,\"extendedCode\":-2147467259,\"message\":\"Unable to complete operation.\",\"details\":[\"Unable to instantiate class for xml schema type: \"]}}'"
      ]
     },
     "execution_count": 11,
     "metadata": {},
     "output_type": "execute_result"
    }
   ],
   "source": [
    "response.content"
   ]
  },
  {
   "cell_type": "code",
   "execution_count": null,
   "metadata": {},
   "outputs": [],
   "source": []
  }
 ],
 "metadata": {
  "kernelspec": {
   "display_name": "egis",
   "language": "python",
   "name": "python3"
  },
  "language_info": {
   "codemirror_mode": {
    "name": "ipython",
    "version": 3
   },
   "file_extension": ".py",
   "mimetype": "text/x-python",
   "name": "python",
   "nbconvert_exporter": "python",
   "pygments_lexer": "ipython3",
   "version": "3.9.19"
  }
 },
 "nbformat": 4,
 "nbformat_minor": 2
}
